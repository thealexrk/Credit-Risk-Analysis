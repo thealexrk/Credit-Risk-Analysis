{
 "cells": [
  {
   "cell_type": "markdown",
   "metadata": {},
   "source": [
    "# Credit Risk Analysis"
   ]
  },
  {
   "cell_type": "code",
   "execution_count": 1,
   "metadata": {},
   "outputs": [],
   "source": [
    "import numpy as np\n",
    "import matplotlib.pyplot as plt\n",
    "\n",
    "from qiskit import QuantumRegister, QuantumCircuit, Aer, execute\n",
    "from qiskit.circuit.library import IntegerComparator\n",
    "from qiskit.aqua.algorithms import IterativeAmplitudeEstimation"
   ]
  },
  {
   "cell_type": "markdown",
   "metadata": {},
   "source": [
    "### 1. Problem Definition"
   ]
  },
  {
   "cell_type": "code",
   "execution_count": 2,
   "metadata": {},
   "outputs": [],
   "source": [
    "n_z = 2\n",
    "z_max = 2\n",
    "z_values = np.linspace(-z_max, z_max, 2**n_z)\n",
    "p_zeros = [0.15, 0.25]\n",
    "rhos = [0.1, 0.05]\n",
    "lgd = [1, 2]\n",
    "K = len(p_zeros)\n",
    "alpha = 0.05"
   ]
  },
  {
   "cell_type": "markdown",
   "metadata": {},
   "source": [
    "### 2. Uncertainty Model"
   ]
  },
  {
   "cell_type": "code",
   "execution_count": 3,
   "metadata": {},
   "outputs": [
    {
     "name": "stderr",
     "output_type": "stream",
     "text": [
      "C:\\Users\\arkou\\anaconda3\\lib\\site-packages\\qiskit\\finance\\__init__.py:50: DeprecationWarning: The package qiskit.finance is deprecated. It was moved/refactored to qiskit_finance (pip install qiskit-finance). For more information see <https://github.com/Qiskit/qiskit-aqua/blob/master/README.md#migration-guide>\n",
      "  warn_package('finance', 'qiskit_finance', 'qiskit-finance')\n",
      "C:\\Users\\arkou\\anaconda3\\lib\\site-packages\\qiskit\\finance\\applications\\gaussian_conditional_independence_model.py:83: DeprecationWarning: `NormalDistribution` is deprecated as of version 0.17.0 and will be removed no earlier than 3 months after the release date. It moved to qiskit_finance.circuit.library.NormalDistribution.\n",
      "  normal_distribution = NormalDistribution(n_normal, 0, 1,\n"
     ]
    }
   ],
   "source": [
    "from qiskit.finance.applications import GaussianConditionalIndependenceModel as GCI\n",
    "u = GCI(n_z, z_max, p_zeros, rhos)"
   ]
  },
  {
   "cell_type": "code",
   "execution_count": 4,
   "metadata": {},
   "outputs": [
    {
     "data": {
      "text/html": [
       "<pre style=\"word-wrap: normal;white-space: pre;background: #fff0;line-height: 1.1;font-family: &quot;Courier New&quot;,Courier,monospace\">     ┌───────┐┌─────────┐┌─────────┐\n",
       "q_0: ┤0      ├┤0        ├┤0        ├\n",
       "     │  P(X) ││         ││         │\n",
       "q_1: ┤1      ├┤1 LinRot ├┤1        ├\n",
       "     └───────┘│         ││  LinRot │\n",
       "q_2: ─────────┤2        ├┤         ├\n",
       "              └─────────┘│         │\n",
       "q_3: ────────────────────┤2        ├\n",
       "                         └─────────┘</pre>"
      ],
      "text/plain": [
       "     ┌───────┐┌─────────┐┌─────────┐\n",
       "q_0: ┤0      ├┤0        ├┤0        ├\n",
       "     │  P(X) ││         ││         │\n",
       "q_1: ┤1      ├┤1 LinRot ├┤1        ├\n",
       "     └───────┘│         ││  LinRot │\n",
       "q_2: ─────────┤2        ├┤         ├\n",
       "              └─────────┘│         │\n",
       "q_3: ────────────────────┤2        ├\n",
       "                         └─────────┘"
      ]
     },
     "execution_count": 4,
     "metadata": {},
     "output_type": "execute_result"
    }
   ],
   "source": [
    "u.draw()"
   ]
  },
  {
   "cell_type": "code",
   "execution_count": 5,
   "metadata": {},
   "outputs": [],
   "source": [
    "job = execute(u, backend=Aer.get_backend('statevector_simulator'))"
   ]
  },
  {
   "cell_type": "code",
   "execution_count": 6,
   "metadata": {},
   "outputs": [],
   "source": [
    "p_z = np.zeros(2**n_z)\n",
    "p_default = np.zeros(K)\n",
    "values = []\n",
    "probabilities = []\n",
    "num_qubits = u.num_qubits\n",
    "for i, a in enumerate(job.result().get_statevector()):\n",
    "    \n",
    "    b = ('{0:0%sb}' % num_qubits).format(i)\n",
    "    prob = np.abs(a)**2\n",
    "\n",
    "    i_normal = int(b[-n_z:], 2)\n",
    "    p_z[i_normal] += prob\n",
    "\n",
    "    loss = 0\n",
    "    for k in range(K):\n",
    "        if b[K - k - 1] == '1':\n",
    "            p_default[k] += prob\n",
    "            loss += lgd[k]\n",
    "    values += [loss]\n",
    "    probabilities += [prob]   \n",
    "\n",
    "values = np.array(values)\n",
    "probabilities = np.array(probabilities)\n",
    "    \n",
    "expected_loss = np.dot(values, probabilities)\n",
    "\n",
    "losses = np.sort(np.unique(values))\n",
    "pdf = np.zeros(len(losses))\n",
    "for i, v in enumerate(losses):\n",
    "    pdf[i] += sum(probabilities[values == v])\n",
    "cdf = np.cumsum(pdf)\n",
    "\n",
    "i_var = np.argmax(cdf >= 1-alpha)\n",
    "exact_var = losses[i_var]\n",
    "exact_cvar = np.dot(pdf[(i_var+1):], losses[(i_var+1):])/sum(pdf[(i_var+1):])"
   ]
  },
  {
   "cell_type": "code",
   "execution_count": 7,
   "metadata": {},
   "outputs": [
    {
     "name": "stdout",
     "output_type": "stream",
     "text": [
      "Expected Loss E[L]:                0.6409\n",
      "Value at Risk VaR[L]:              2.0000\n",
      "P[L <= VaR[L]]:                    0.9591\n",
      "Conditional Value at Risk CVaR[L]: 3.0000\n"
     ]
    }
   ],
   "source": [
    "print('Expected Loss E[L]:                %.4f' % expected_loss)\n",
    "print('Value at Risk VaR[L]:              %.4f' % exact_var)\n",
    "print('P[L <= VaR[L]]:                    %.4f' % cdf[exact_var])\n",
    "print('Conditional Value at Risk CVaR[L]: %.4f' % exact_cvar)"
   ]
  },
  {
   "cell_type": "code",
   "execution_count": 8,
   "metadata": {
    "tags": [
     "nbsphinx-thumbnail"
    ]
   },
   "outputs": [
    {
     "data": {
      "image/png": "[encoded data removed]",
      "text/plain": [
       "<Figure size 432x288 with 1 Axes>"
      ]
     },
     "metadata": {
      "needs_background": "light"
     },
     "output_type": "display_data"
    }
   ],
   "source": [
    "plt.bar(losses, pdf)\n",
    "plt.axvline(expected_loss, color='green', linestyle='--', label='E[L]')\n",
    "plt.axvline(exact_var, color='orange', linestyle='--', label='VaR(L)')\n",
    "plt.axvline(exact_cvar, color='red', linestyle='--', label='CVaR(L)')\n",
    "plt.legend(fontsize=15)\n",
    "plt.xlabel('Loss L ($)', size=15)\n",
    "plt.ylabel('probability (%)', size=15)\n",
    "plt.title('Loss Distribution', size=20)\n",
    "plt.xticks(size=15)\n",
    "plt.yticks(size=15)\n",
    "plt.show()"
   ]
  },
  {
   "cell_type": "code",
   "execution_count": 9,
   "metadata": {},
   "outputs": [
    {
     "data": {
      "image/png": "[encoded data removed]",
      "text/plain": [
       "<Figure size 432x288 with 1 Axes>"
      ]
     },
     "metadata": {
      "needs_background": "light"
     },
     "output_type": "display_data"
    }
   ],
   "source": [
    "plt.plot(z_values, p_z, 'o-', linewidth=3, markersize=8)\n",
    "plt.grid()\n",
    "plt.xlabel('Z value', size=15)\n",
    "plt.ylabel('probability (%)', size=15)\n",
    "plt.title('Z Distribution', size=20)\n",
    "plt.xticks(size=15)\n",
    "plt.yticks(size=15)\n",
    "plt.show()"
   ]
  },
  {
   "cell_type": "code",
   "execution_count": 10,
   "metadata": {},
   "outputs": [
    {
     "data": {
      "image/png": "[encoded data removed]",
      "text/plain": [
       "<Figure size 432x288 with 1 Axes>"
      ]
     },
     "metadata": {
      "needs_background": "light"
     },
     "output_type": "display_data"
    }
   ],
   "source": [
    "plt.bar(range(K), p_default)\n",
    "plt.xlabel('Asset', size=15)\n",
    "plt.ylabel('probability (%)', size=15)\n",
    "plt.title('Individual Default Probabilities', size=20)\n",
    "plt.xticks(range(K), size=15)\n",
    "plt.yticks(size=15)\n",
    "plt.grid()\n",
    "plt.show()"
   ]
  },
  {
   "cell_type": "markdown",
   "metadata": {},
   "source": [
    "### 3. Expected Loss"
   ]
  },
  {
   "cell_type": "code",
   "execution_count": 11,
   "metadata": {},
   "outputs": [],
   "source": [
    "from qiskit.circuit.library import WeightedAdder\n",
    "agg = WeightedAdder(n_z + K, [0]*n_z + lgd)"
   ]
  },
  {
   "cell_type": "code",
   "execution_count": 12,
   "metadata": {},
   "outputs": [],
   "source": [
    "from qiskit.circuit.library import LinearAmplitudeFunction\n",
    "\n",
    "breakpoints = [0]\n",
    "slopes = [1]\n",
    "offsets = [0]\n",
    "f_min = 0\n",
    "f_max = sum(lgd)\n",
    "c_approx = 0.25\n",
    "\n",
    "objective = LinearAmplitudeFunction(\n",
    "    agg.num_sum_qubits,\n",
    "    slope=slopes, \n",
    "    offset=offsets, \n",
    "\n",
    "    domain=(0, 2**agg.num_sum_qubits-1),  \n",
    "    image=(f_min, f_max),\n",
    "    rescaling_factor=c_approx,\n",
    "    breakpoints=breakpoints\n",
    ")"
   ]
  },
  {
   "cell_type": "code",
   "execution_count": 13,
   "metadata": {},
   "outputs": [
    {
     "data": {
      "text/html": [
       "<pre style=\"word-wrap: normal;white-space: pre;background: #fff0;line-height: 1.1;font-family: &quot;Courier New&quot;,Courier,monospace\">             ┌───────┐┌────────┐      ┌───────────┐\n",
       "    state_0: ┤0      ├┤0       ├──────┤0          ├\n",
       "             │       ││        │      │           │\n",
       "    state_1: ┤1      ├┤1       ├──────┤1          ├\n",
       "             │  P(X) ││        │      │           │\n",
       "    state_2: ┤2      ├┤2       ├──────┤2          ├\n",
       "             │       ││        │      │           │\n",
       "    state_3: ┤3      ├┤3       ├──────┤3          ├\n",
       "             └───────┘│  adder │┌────┐│  adder_dg │\n",
       "objective_0: ─────────┤        ├┤2   ├┤           ├\n",
       "                      │        ││    ││           │\n",
       "      sum_0: ─────────┤4       ├┤0 F ├┤4          ├\n",
       "                      │        ││    ││           │\n",
       "      sum_1: ─────────┤5       ├┤1   ├┤5          ├\n",
       "                      │        │└────┘│           │\n",
       "    carry_0: ─────────┤6       ├──────┤6          ├\n",
       "                      └────────┘      └───────────┘</pre>"
      ],
      "text/plain": [
       "             ┌───────┐┌────────┐      ┌───────────┐\n",
       "    state_0: ┤0      ├┤0       ├──────┤0          ├\n",
       "             │       ││        │      │           │\n",
       "    state_1: ┤1      ├┤1       ├──────┤1          ├\n",
       "             │  P(X) ││        │      │           │\n",
       "    state_2: ┤2      ├┤2       ├──────┤2          ├\n",
       "             │       ││        │      │           │\n",
       "    state_3: ┤3      ├┤3       ├──────┤3          ├\n",
       "             └───────┘│  adder │┌────┐│  adder_dg │\n",
       "objective_0: ─────────┤        ├┤2   ├┤           ├\n",
       "                      │        ││    ││           │\n",
       "      sum_0: ─────────┤4       ├┤0 F ├┤4          ├\n",
       "                      │        ││    ││           │\n",
       "      sum_1: ─────────┤5       ├┤1   ├┤5          ├\n",
       "                      │        │└────┘│           │\n",
       "    carry_0: ─────────┤6       ├──────┤6          ├\n",
       "                      └────────┘      └───────────┘"
      ]
     },
     "execution_count": 13,
     "metadata": {},
     "output_type": "execute_result"
    }
   ],
   "source": [
    "qr_state = QuantumRegister(u.num_qubits, 'state')\n",
    "qr_sum = QuantumRegister(agg.num_sum_qubits, 'sum')\n",
    "qr_carry = QuantumRegister(agg.num_carry_qubits, 'carry')\n",
    "qr_obj = QuantumRegister(1, 'objective')\n",
    "\n",
    "state_preparation = QuantumCircuit(qr_state, qr_obj, qr_sum, qr_carry, name='A')\n",
    "\n",
    "state_preparation.append(u.to_gate(), qr_state)\n",
    "\n",
    "state_preparation.append(agg.to_gate(), qr_state[:] + qr_sum[:] + qr_carry[:])\n",
    "\n",
    "state_preparation.append(objective.to_gate(), qr_sum[:] + qr_obj[:])\n",
    "\n",
    "state_preparation.append(agg.to_gate().inverse(), qr_state[:] + qr_sum[:] + qr_carry[:])\n",
    "\n",
    "state_preparation.draw()"
   ]
  },
  {
   "cell_type": "code",
   "execution_count": 14,
   "metadata": {},
   "outputs": [],
   "source": [
    "job = execute(state_preparation, backend=Aer.get_backend('statevector_simulator'))"
   ]
  },
  {
   "cell_type": "code",
   "execution_count": 15,
   "metadata": {},
   "outputs": [
    {
     "name": "stdout",
     "output_type": "stream",
     "text": [
      "Exact Expected Loss:   0.6409\n",
      "Exact Operator Value:  0.3906\n",
      "Mapped Operator value: 0.6640\n"
     ]
    }
   ],
   "source": [
    "value = 0\n",
    "for i, a in enumerate(job.result().get_statevector()):\n",
    "    b = ('{0:0%sb}' % (len(qr_state) + 1)).format(i)[-(len(qr_state) + 1):]\n",
    "    am = np.round(np.real(a), decimals=4)\n",
    "    if np.abs(am) > 1e-6 and b[0] == '1':\n",
    "        value += am**2\n",
    "\n",
    "print('Exact Expected Loss:   %.4f' % expected_loss) \n",
    "print('Exact Operator Value:  %.4f' % value)\n",
    "print('Mapped Operator value: %.4f' % objective.post_processing(value))"
   ]
  },
  {
   "cell_type": "code",
   "execution_count": 16,
   "metadata": {
    "scrolled": true
   },
   "outputs": [
    {
     "name": "stderr",
     "output_type": "stream",
     "text": [
      "C:\\Users\\arkou\\anaconda3\\lib\\site-packages\\qiskit\\aqua\\algorithms\\amplitude_estimators\\ae_algorithm.py:91: DeprecationWarning: The package qiskit.aqua.algorithms.amplitude_estimators is deprecated. It was moved/refactored to qiskit.algorithms.amplitude_estimators (pip install qiskit-terra). For more information see <https://github.com/Qiskit/qiskit-aqua/blob/master/README.md#migration-guide>\n",
      "  warn_package('aqua.algorithms.amplitude_estimators',\n",
      "C:\\Users\\arkou\\anaconda3\\lib\\site-packages\\qiskit\\aqua\\quantum_instance.py:135: DeprecationWarning: The class qiskit.aqua.QuantumInstance is deprecated. It was moved/refactored to qiskit.utils.QuantumInstance (pip install qiskit-terra). For more information see <https://github.com/Qiskit/qiskit-aqua/blob/master/README.md#migration-guide>\n",
      "  warn_class('aqua.QuantumInstance',\n"
     ]
    },
    {
     "name": "stdout",
     "output_type": "stream",
     "text": [
      "Exact value:    \t0.6409\n",
      "Estimated value:\t0.6863\n",
      "Confidence interval: \t[0.6175, 0.7552]\n"
     ]
    }
   ],
   "source": [
    "epsilon = 0.01\n",
    "alpha = 0.05\n",
    "\n",
    "ae = IterativeAmplitudeEstimation(state_preparation=state_preparation,\n",
    "                                  epsilon=epsilon, alpha=alpha,\n",
    "                                  objective_qubits=[len(qr_state)],\n",
    "                                  post_processing=objective.post_processing)\n",
    "result = ae.run(quantum_instance=Aer.get_backend('qasm_simulator'), shots=100)\n",
    "\n",
    "conf_int = np.array(result['confidence_interval'])\n",
    "print('Exact value:    \\t%.4f' % expected_loss)\n",
    "print('Estimated value:\\t%.4f' % result['estimation'])\n",
    "print('Confidence interval: \\t[%.4f, %.4f]' % tuple(conf_int))"
   ]
  },
  {
   "cell_type": "markdown",
   "metadata": {},
   "source": [
    "### 4. Cumulative Distribution Function"
   ]
  },
  {
   "cell_type": "code",
   "execution_count": 17,
   "metadata": {},
   "outputs": [
    {
     "data": {
      "text/html": [
       "<pre style=\"word-wrap: normal;white-space: pre;background: #fff0;line-height: 1.1;font-family: &quot;Courier New&quot;,Courier,monospace\">                               \n",
       "  state_0: ──■──────────────■──\n",
       "             │              │  \n",
       "  state_1: ──┼────■─────────┼──\n",
       "             │  ┌─┴─┐┌───┐  │  \n",
       "compare_0: ──┼──┤ X ├┤ X ├──┼──\n",
       "           ┌─┴─┐└─┬─┘└───┘┌─┴─┐\n",
       "     a0_0: ┤ X ├──■───────┤ X ├\n",
       "           └───┘          └───┘</pre>"
      ],
      "text/plain": [
       "                               \n",
       "  state_0: ──■──────────────■──\n",
       "             │              │  \n",
       "  state_1: ──┼────■─────────┼──\n",
       "             │  ┌─┴─┐┌───┐  │  \n",
       "compare_0: ──┼──┤ X ├┤ X ├──┼──\n",
       "           ┌─┴─┐└─┬─┘└───┘┌─┴─┐\n",
       "     a0_0: ┤ X ├──■───────┤ X ├\n",
       "           └───┘          └───┘"
      ]
     },
     "execution_count": 17,
     "metadata": {},
     "output_type": "execute_result"
    }
   ],
   "source": [
    "x_eval = 2\n",
    "\n",
    "comparator = IntegerComparator(agg.num_sum_qubits, x_eval + 1, geq=False)\n",
    "comparator.draw()"
   ]
  },
  {
   "cell_type": "code",
   "execution_count": 18,
   "metadata": {},
   "outputs": [],
   "source": [
    "def get_cdf_circuit(x_eval):\n",
    "\n",
    "    qr_state = QuantumRegister(u.num_qubits, 'state')\n",
    "    qr_sum = QuantumRegister(agg.num_sum_qubits, 'sum')\n",
    "    qr_carry = QuantumRegister(agg.num_carry_qubits, 'carry')\n",
    "    qr_obj = QuantumRegister(1, 'objective')\n",
    "    qr_compare = QuantumRegister(1, 'compare')\n",
    "\n",
    "    state_preparation = QuantumCircuit(qr_state, qr_obj, qr_sum, qr_carry, name='A')\n",
    "\n",
    "    state_preparation.append(u, qr_state)\n",
    "\n",
    "    state_preparation.append(agg, qr_state[:] + qr_sum[:] + qr_carry[:])\n",
    "\n",
    "    comparator = IntegerComparator(agg.num_sum_qubits, x_eval + 1, geq=False)\n",
    "    state_preparation.append(comparator, qr_sum[:] + qr_obj[:] + qr_carry[:])\n",
    "\n",
    "    state_preparation.append(agg.inverse(), qr_state[:] + qr_sum[:] + qr_carry[:])\n",
    "    \n",
    "    return state_preparation\n",
    "    \n",
    "state_preparation = get_cdf_circuit(x_eval)"
   ]
  },
  {
   "cell_type": "code",
   "execution_count": 19,
   "metadata": {},
   "outputs": [],
   "source": [
    "job = execute(state_preparation, backend=Aer.get_backend('statevector_simulator'))"
   ]
  },
  {
   "cell_type": "code",
   "execution_count": 20,
   "metadata": {
    "scrolled": true
   },
   "outputs": [
    {
     "data": {
      "text/html": [
       "<pre style=\"word-wrap: normal;white-space: pre;background: #fff0;line-height: 1.1;font-family: &quot;Courier New&quot;,Courier,monospace\">             ┌───────┐┌────────┐        ┌───────────┐\n",
       "    state_0: ┤0      ├┤0       ├────────┤0          ├\n",
       "             │       ││        │        │           │\n",
       "    state_1: ┤1      ├┤1       ├────────┤1          ├\n",
       "             │  P(X) ││        │        │           │\n",
       "    state_2: ┤2      ├┤2       ├────────┤2          ├\n",
       "             │       ││        │        │           │\n",
       "    state_3: ┤3      ├┤3       ├────────┤3          ├\n",
       "             └───────┘│  adder │┌──────┐│  adder_dg │\n",
       "objective_0: ─────────┤        ├┤2     ├┤           ├\n",
       "                      │        ││      ││           │\n",
       "      sum_0: ─────────┤4       ├┤0     ├┤4          ├\n",
       "                      │        ││  cmp ││           │\n",
       "      sum_1: ─────────┤5       ├┤1     ├┤5          ├\n",
       "                      │        ││      ││           │\n",
       "    carry_0: ─────────┤6       ├┤3     ├┤6          ├\n",
       "                      └────────┘└──────┘└───────────┘</pre>"
      ],
      "text/plain": [
       "             ┌───────┐┌────────┐        ┌───────────┐\n",
       "    state_0: ┤0      ├┤0       ├────────┤0          ├\n",
       "             │       ││        │        │           │\n",
       "    state_1: ┤1      ├┤1       ├────────┤1          ├\n",
       "             │  P(X) ││        │        │           │\n",
       "    state_2: ┤2      ├┤2       ├────────┤2          ├\n",
       "             │       ││        │        │           │\n",
       "    state_3: ┤3      ├┤3       ├────────┤3          ├\n",
       "             └───────┘│  adder │┌──────┐│  adder_dg │\n",
       "objective_0: ─────────┤        ├┤2     ├┤           ├\n",
       "                      │        ││      ││           │\n",
       "      sum_0: ─────────┤4       ├┤0     ├┤4          ├\n",
       "                      │        ││  cmp ││           │\n",
       "      sum_1: ─────────┤5       ├┤1     ├┤5          ├\n",
       "                      │        ││      ││           │\n",
       "    carry_0: ─────────┤6       ├┤3     ├┤6          ├\n",
       "                      └────────┘└──────┘└───────────┘"
      ]
     },
     "execution_count": 20,
     "metadata": {},
     "output_type": "execute_result"
    }
   ],
   "source": [
    "state_preparation.draw()"
   ]
  },
  {
   "cell_type": "code",
   "execution_count": 21,
   "metadata": {},
   "outputs": [
    {
     "name": "stdout",
     "output_type": "stream",
     "text": [
      "Operator CDF(2) = 0.9591\n",
      "Exact    CDF(2) = 0.9591\n"
     ]
    }
   ],
   "source": [
    "var_prob = 0\n",
    "for i, a in enumerate(job.result().get_statevector()):\n",
    "    b = ('{0:0%sb}' % (len(qr_state) + 1)).format(i)[-(len(qr_state) + 1):]\n",
    "    prob = np.abs(a)**2\n",
    "    if prob > 1e-6 and b[0] == '1':\n",
    "        var_prob += prob\n",
    "print('Operator CDF(%s)' % x_eval + ' = %.4f' % var_prob)\n",
    "print('Exact    CDF(%s)' % x_eval + ' = %.4f' % cdf[x_eval])"
   ]
  },
  {
   "cell_type": "code",
   "execution_count": 22,
   "metadata": {},
   "outputs": [
    {
     "name": "stdout",
     "output_type": "stream",
     "text": [
      "Exact value:    \t0.9591\n",
      "Estimated value:\t0.9591\n",
      "Confidence interval: \t[0.9583, 0.9600]\n"
     ]
    }
   ],
   "source": [
    "epsilon = 0.01\n",
    "alpha = 0.05\n",
    "\n",
    "ae_cdf = IterativeAmplitudeEstimation(state_preparation=state_preparation,\n",
    "                                      epsilon=epsilon, alpha=alpha,\n",
    "                                      objective_qubits=[len(qr_state)])\n",
    "result_cdf = ae_cdf.run(quantum_instance=Aer.get_backend('qasm_simulator'), shots=100)\n",
    "\n",
    "conf_int = np.array(result_cdf['confidence_interval'])\n",
    "print('Exact value:    \\t%.4f' % cdf[x_eval])\n",
    "print('Estimated value:\\t%.4f' % result_cdf['estimation'])\n",
    "print('Confidence interval: \\t[%.4f, %.4f]' % tuple(conf_int))"
   ]
  },
  {
   "cell_type": "markdown",
   "metadata": {},
   "source": [
    "### 5. Value at Risk"
   ]
  },
  {
   "cell_type": "code",
   "execution_count": 23,
   "metadata": {},
   "outputs": [],
   "source": [
    "def run_ae_for_cdf(x_eval, epsilon=0.01, alpha=0.05, simulator='qasm_simulator'):\n",
    "\n",
    "    state_preparation = get_cdf_circuit(x_eval)\n",
    "    ae_var = IterativeAmplitudeEstimation(state_preparation=state_preparation,\n",
    "                                          epsilon=epsilon, alpha=alpha,\n",
    "                                          objective_qubits=[len(qr_state)]) \n",
    "    result_var = ae_var.run(quantum_instance=Aer.get_backend(simulator), shots=100)\n",
    "    \n",
    "    return result_var['estimation']"
   ]
  },
  {
   "cell_type": "code",
   "execution_count": 24,
   "metadata": {},
   "outputs": [],
   "source": [
    "def bisection_search(objective, target_value, low_level, high_level, low_value=None, high_value=None):\n",
    "    \"\"\"\n",
    "    Determines the smallest level such that the objective value is still larger than the target\n",
    "    :param objective: objective function\n",
    "    :param target: target value\n",
    "    :param low_level: lowest level to be considered\n",
    "    :param high_level: highest level to be considered\n",
    "    :param low_value: value of lowest level (will be evaluated if set to None)\n",
    "    :param high_value: value of highest level (will be evaluated if set to None)\n",
    "    :return: dictionary with level, value, num_eval\n",
    "    \"\"\"\n",
    "\n",
    "    print('--------------------------------------------------------------------')\n",
    "    print('start bisection search for target value %.3f' % target_value)\n",
    "    print('--------------------------------------------------------------------')\n",
    "    num_eval = 0\n",
    "    if low_value is None:\n",
    "        low_value = objective(low_level)\n",
    "        num_eval += 1\n",
    "    if high_value is None:\n",
    "        high_value = objective(high_level)\n",
    "        num_eval += 1    \n",
    "        \n",
    "    if low_value > target_value:\n",
    "        return {'level': low_level, 'value': low_value, 'num_eval': num_eval, 'comment': 'returned low value'}\n",
    "    elif low_value == target_value:\n",
    "        return {'level': low_level, 'value': low_value, 'num_eval': num_eval, 'comment': 'success'}\n",
    "\n",
    "    if high_value < target_value:\n",
    "        return {'level': high_level, 'value': high_value, 'num_eval': num_eval, 'comment': 'returned low value'}\n",
    "    elif high_value == target_value:\n",
    "        return {'level': high_level, 'value': high_value, 'num_eval': num_eval, 'comment': 'success'}\n",
    "\n",
    "    print('low_level    low_value    level    value    high_level    high_value')\n",
    "    print('--------------------------------------------------------------------')\n",
    "    while high_level - low_level > 1:\n",
    "\n",
    "        level = int(np.round((high_level + low_level) / 2.0))\n",
    "        num_eval += 1\n",
    "        value = objective(level)\n",
    "\n",
    "        print('%2d           %.3f        %2d       %.3f    %2d            %.3f' \\\n",
    "              % (low_level, low_value, level, value, high_level, high_value))\n",
    "\n",
    "        if value >= target_value:\n",
    "            high_level = level\n",
    "            high_value = value\n",
    "        else:\n",
    "            low_level = level\n",
    "            low_value = value\n",
    "\n",
    "    print('--------------------------------------------------------------------')\n",
    "    print('finished bisection search')\n",
    "    print('--------------------------------------------------------------------')\n",
    "    return {'level': high_level, 'value': high_value, 'num_eval': num_eval, 'comment': 'success'}"
   ]
  },
  {
   "cell_type": "code",
   "execution_count": 25,
   "metadata": {},
   "outputs": [
    {
     "name": "stdout",
     "output_type": "stream",
     "text": [
      "--------------------------------------------------------------------\n",
      "start bisection search for target value 0.950\n",
      "--------------------------------------------------------------------\n",
      "low_level    low_value    level    value    high_level    high_value\n",
      "--------------------------------------------------------------------\n",
      "-1           0.000         1       0.746     3            1.000\n",
      " 1           0.746         2       0.958     3            1.000\n",
      "--------------------------------------------------------------------\n",
      "finished bisection search\n",
      "--------------------------------------------------------------------\n"
     ]
    }
   ],
   "source": [
    "objective = lambda x: run_ae_for_cdf(x)\n",
    "bisection_result = bisection_search(objective, 1-alpha, min(losses)-1, max(losses), low_value=0, high_value=1)\n",
    "var = bisection_result['level']"
   ]
  },
  {
   "cell_type": "code",
   "execution_count": 26,
   "metadata": {},
   "outputs": [
    {
     "name": "stdout",
     "output_type": "stream",
     "text": [
      "Estimated Value at Risk:  2\n",
      "Exact Value at Risk:      2\n",
      "Estimated Probability:    0.958\n",
      "Exact Probability:        0.959\n"
     ]
    }
   ],
   "source": [
    "print('Estimated Value at Risk: %2d' % var)\n",
    "print('Exact Value at Risk:     %2d' % exact_var)\n",
    "print('Estimated Probability:    %.3f' % bisection_result['value'])\n",
    "print('Exact Probability:        %.3f' % cdf[exact_var])"
   ]
  },
  {
   "cell_type": "markdown",
   "metadata": {},
   "source": [
    "### 6. Conditional Value at Risk"
   ]
  },
  {
   "cell_type": "code",
   "execution_count": 27,
   "metadata": {},
   "outputs": [
    {
     "data": {
      "text/html": [
       "<pre style=\"word-wrap: normal;white-space: pre;background: #fff0;line-height: 1.1;font-family: &quot;Courier New&quot;,Courier,monospace\">        ┌─────────┐┌──────┐┌─────────┐┌─────────┐\n",
       "q190_0: ┤0        ├┤0     ├┤0        ├┤0        ├\n",
       "        │         ││      ││         ││         │\n",
       "q190_1: ┤1 LinRot ├┤1     ├┤1 LinRot ├┤1        ├\n",
       "        │         ││      ││         ││         │\n",
       "q191_0: ┤2        ├┤  cmp ├┤2        ├┤  cmp_dg ├\n",
       "        └─────────┘│      │└────┬────┘│         │\n",
       "  a4_0: ───────────┤2     ├─────■─────┤2        ├\n",
       "                   │      │           │         │\n",
       "  a4_1: ───────────┤3     ├───────────┤3        ├\n",
       "                   └──────┘           └─────────┘</pre>"
      ],
      "text/plain": [
       "        ┌─────────┐┌──────┐┌─────────┐┌─────────┐\n",
       "q190_0: ┤0        ├┤0     ├┤0        ├┤0        ├\n",
       "        │         ││      ││         ││         │\n",
       "q190_1: ┤1 LinRot ├┤1     ├┤1 LinRot ├┤1        ├\n",
       "        │         ││      ││         ││         │\n",
       "q191_0: ┤2        ├┤  cmp ├┤2        ├┤  cmp_dg ├\n",
       "        └─────────┘│      │└────┬────┘│         │\n",
       "  a4_0: ───────────┤2     ├─────■─────┤2        ├\n",
       "                   │      │           │         │\n",
       "  a4_1: ───────────┤3     ├───────────┤3        ├\n",
       "                   └──────┘           └─────────┘"
      ]
     },
     "execution_count": 27,
     "metadata": {},
     "output_type": "execute_result"
    }
   ],
   "source": [
    "breakpoints = [0, var]\n",
    "slopes = [0, 1]\n",
    "offsets = [0, 0]\n",
    "f_min = 0\n",
    "f_max = 3 - var\n",
    "c_approx = 0.25\n",
    "\n",
    "cvar_objective = LinearAmplitudeFunction(\n",
    "    agg.num_sum_qubits,\n",
    "    slopes, \n",
    "    offsets, \n",
    "    domain=(0, 2**agg.num_sum_qubits - 1),\n",
    "    image=(f_min, f_max),\n",
    "    rescaling_factor=c_approx,\n",
    "    breakpoints=breakpoints\n",
    ")\n",
    "\n",
    "cvar_objective.draw()"
   ]
  },
  {
   "cell_type": "code",
   "execution_count": 28,
   "metadata": {},
   "outputs": [
    {
     "data": {
      "text/plain": [
       "<qiskit.circuit.instructionset.InstructionSet at 0x219f92a1760>"
      ]
     },
     "execution_count": 28,
     "metadata": {},
     "output_type": "execute_result"
    }
   ],
   "source": [
    "qr_state = QuantumRegister(u.num_qubits, 'state')\n",
    "qr_sum = QuantumRegister(agg.num_sum_qubits, 'sum')\n",
    "qr_carry = QuantumRegister(agg.num_carry_qubits, 'carry')\n",
    "qr_obj = QuantumRegister(1, 'objective')\n",
    "qr_work = QuantumRegister(cvar_objective.num_ancillas - len(qr_carry), 'work')\n",
    "\n",
    "state_preparation = QuantumCircuit(qr_state, qr_obj, qr_sum, qr_carry, qr_work, name='A')\n",
    "\n",
    "state_preparation.append(u, qr_state)\n",
    "\n",
    "state_preparation.append(agg, qr_state[:] + qr_sum[:] + qr_carry[:])\n",
    "\n",
    "state_preparation.append(cvar_objective, qr_sum[:] + qr_obj[:] + qr_carry[:] + qr_work[:])\n",
    "\n",
    "state_preparation.append(agg.inverse(), qr_state[:] + qr_sum[:] + qr_carry[:])"
   ]
  },
  {
   "cell_type": "code",
   "execution_count": 29,
   "metadata": {},
   "outputs": [],
   "source": [
    "job = execute(state_preparation, backend=Aer.get_backend('statevector_simulator'))"
   ]
  },
  {
   "cell_type": "code",
   "execution_count": 30,
   "metadata": {},
   "outputs": [
    {
     "name": "stdout",
     "output_type": "stream",
     "text": [
      "Estimated CVaR: 3.2640\n",
      "Exact CVaR:     3.0000\n"
     ]
    }
   ],
   "source": [
    "value = 0\n",
    "for i, a in enumerate(job.result().get_statevector()):\n",
    "    b = ('{0:0%sb}' % (len(qr_state) + 1)).format(i)[-(len(qr_state) + 1):]\n",
    "    am = np.round(np.real(a), decimals=4)\n",
    "    if np.abs(am) > 1e-6 and b[0] == '1':\n",
    "        value += am**2\n",
    "\n",
    "value = cvar_objective.post_processing(value)\n",
    "d = (1.0 - bisection_result['value'])\n",
    "v = value / d if d != 0 else 0\n",
    "normalized_value = v + var\n",
    "print('Estimated CVaR: %.4f' % normalized_value)\n",
    "print('Exact CVaR:     %.4f' % exact_cvar)"
   ]
  },
  {
   "cell_type": "code",
   "execution_count": 31,
   "metadata": {},
   "outputs": [],
   "source": [
    "epsilon = 0.01\n",
    "alpha = 0.05\n",
    "\n",
    "ae_cvar = IterativeAmplitudeEstimation(state_preparation=state_preparation,\n",
    "                                       epsilon=epsilon, alpha=alpha, \n",
    "                                       objective_qubits=[len(qr_state)],\n",
    "                                       post_processing=cvar_objective.post_processing)\n",
    "result_cvar = ae_cvar.run(quantum_instance=Aer.get_backend('qasm_simulator'), shots=100)"
   ]
  },
  {
   "cell_type": "code",
   "execution_count": 32,
   "metadata": {},
   "outputs": [
    {
     "name": "stdout",
     "output_type": "stream",
     "text": [
      "Exact CVaR:    \t3.0000\n",
      "Estimated CVaR:\t3.3641\n"
     ]
    }
   ],
   "source": [
    "d = (1.0 - bisection_result['value'])\n",
    "v = result_cvar['estimation'] / d if d != 0 else 0\n",
    "print('Exact CVaR:    \\t%.4f' % exact_cvar)\n",
    "print('Estimated CVaR:\\t%.4f' % (v + var))"
   ]
  },
  {
   "cell_type": "code",
   "execution_count": 33,
   "metadata": {
    "ExecuteTime": {
     "end_time": "2019-08-22T01:56:12.651056Z",
     "start_time": "2019-08-22T01:56:12.640412Z"
    }
   },
   "outputs": [
    {
     "data": {
      "text/html": [
       "<div style='width: 100%; background-color:#d5d9e0;padding-left: 10px; padding-bottom: 10px; padding-right: 10px; padding-top: 5px'><h3>This code is a part of Qiskit</h3><p>&copy; Copyright IBM 2017, 2021.</p><p>This code is licensed under the Apache License, Version 2.0. You may<br>obtain a copy of this license in the LICENSE.txt file in the root directory<br> of this source tree or at http://www.apache.org/licenses/LICENSE-2.0.<p>Any modifications or derivative works of this code must retain this<br>copyright notice, and modified files need to carry a notice indicating<br>that they have been altered from the originals.</p></div>"
      ],
      "text/plain": [
       "<IPython.core.display.HTML object>"
      ]
     },
     "metadata": {},
     "output_type": "display_data"
    }
   ],
   "source": [
    "import qiskit.tools.jupyter\n",
    "%qiskit_copyright"
   ]
  },
  {
   "cell_type": "markdown",
   "metadata": {},
   "source": [
    "#### Please note that this code has been altered from the original tutorial."
   ]
  }
 ],
 "metadata": {
  "celltoolbar": "Tags",
  "kernelspec": {
   "display_name": "Python 3",
   "language": "python",
   "name": "python3"
  },
  "language_info": {
   "codemirror_mode": {
    "name": "ipython",
    "version": 3
   },
   "file_extension": ".py",
   "mimetype": "text/x-python",
   "name": "python",
   "nbconvert_exporter": "python",
   "pygments_lexer": "ipython3",
   "version": "3.8.5"
  },
  "varInspector": {
   "cols": {
    "lenName": 16,
    "lenType": 16,
    "lenVar": 40
   },
   "kernels_config": {
    "python": {
     "delete_cmd_postfix": "",
     "delete_cmd_prefix": "del ",
     "library": "var_list.py",
     "varRefreshCmd": "print(var_dic_list())"
    },
    "r": {
     "delete_cmd_postfix": ") ",
     "delete_cmd_prefix": "rm(",
     "library": "var_list.r",
     "varRefreshCmd": "cat(var_dic_list()) "
    }
   },
   "types_to_exclude": [
    "module",
    "function",
    "builtin_function_or_method",
    "instance",
    "_Feature"
   ],
   "window_display": false
  }
 },
 "nbformat": 4,
 "nbformat_minor": 2
}
